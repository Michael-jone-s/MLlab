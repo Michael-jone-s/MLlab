{
 "cells": [
  {
   "cell_type": "code",
   "execution_count": 1,
   "id": "b4bd46ba",
   "metadata": {},
   "outputs": [],
   "source": [
    "#import pandas package and dataset\n",
    "import pandas as pd\n",
    "df=pd.read_csv('raw-material-properties.csv')"
   ]
  },
  {
   "cell_type": "code",
   "execution_count": 2,
   "id": "26f58926",
   "metadata": {
    "scrolled": false
   },
   "outputs": [
    {
     "name": "stdout",
     "output_type": "stream",
     "text": [
      "Sample       object\n",
      "size1       float64\n",
      "size2       float64\n",
      "size3       float64\n",
      "density1    float64\n",
      "density2    float64\n",
      "density3    float64\n",
      "dtype: object\n",
      "<class 'pandas.core.frame.DataFrame'>\n",
      "RangeIndex: 36 entries, 0 to 35\n",
      "Data columns (total 7 columns):\n",
      " #   Column    Non-Null Count  Dtype  \n",
      "---  ------    --------------  -----  \n",
      " 0   Sample    36 non-null     object \n",
      " 1   size1     35 non-null     float64\n",
      " 2   size2     35 non-null     float64\n",
      " 3   size3     35 non-null     float64\n",
      " 4   density1  26 non-null     float64\n",
      " 5   density2  26 non-null     float64\n",
      " 6   density3  26 non-null     float64\n",
      "dtypes: float64(6), object(1)\n",
      "memory usage: 2.1+ KB\n",
      "None\n"
     ]
    }
   ],
   "source": [
    "#datatypes of each attributes\n",
    "print(df.dtypes)\n",
    "print(df.info())"
   ]
  },
  {
   "cell_type": "code",
   "execution_count": 3,
   "id": "07c6a13e",
   "metadata": {},
   "outputs": [
    {
     "name": "stdout",
     "output_type": "stream",
     "text": [
      "   Sample  size1  size2  size3  density1  density2  density3\n",
      "0  X12558  0.696   2.69   6.38      41.8     17.18      3.90\n",
      "1  X14728  0.636   2.30   5.14      38.1     12.73      3.89\n",
      "2  X15468  0.841   2.85   5.20      37.6     13.58      3.98\n",
      "3  X21364  0.609   2.13   4.62      34.2     11.12      4.02\n",
      "4  X23671  0.684   2.16   4.87      36.4     12.24      3.92\n",
      "    Sample  size1  size2  size3  density1  density2  density3\n",
      "31  X57095  0.662   2.34   4.71      35.0     12.37      3.90\n",
      "32  X57128  0.749   2.43   5.16      37.3     13.04      3.92\n",
      "33  X61870  0.598   2.21   4.90       NaN       NaN       NaN\n",
      "34  X61888  0.619   2.59   5.81       NaN       NaN       NaN\n",
      "35  X72736  0.693   2.05   5.02      39.6     15.55      3.94\n"
     ]
    }
   ],
   "source": [
    "#Print head and tail of the dataset\n",
    "print(df.head())\n",
    "print(df.tail())"
   ]
  },
  {
   "cell_type": "code",
   "execution_count": 4,
   "id": "35fb0b4b",
   "metadata": {},
   "outputs": [
    {
     "name": "stdout",
     "output_type": "stream",
     "text": [
      "    Sample  size1  size2  size3  density1  density2  density3\n",
      "0    False  False  False  False     False     False     False\n",
      "1    False  False  False  False     False     False     False\n",
      "2    False  False  False  False     False     False     False\n",
      "3    False  False  False  False     False     False     False\n",
      "4    False  False  False  False     False     False     False\n",
      "5    False  False  False  False     False     False     False\n",
      "6    False  False  False  False     False     False     False\n",
      "7    False  False  False  False      True      True      True\n",
      "8    False  False  False  False      True      True      True\n",
      "9    False  False  False  False     False     False     False\n",
      "10   False  False  False  False      True      True      True\n",
      "11   False  False  False  False      True      True      True\n",
      "12   False  False  False  False      True      True      True\n",
      "13   False  False  False  False     False     False     False\n",
      "14   False  False  False  False     False     False     False\n",
      "15   False  False  False  False     False     False     False\n",
      "16   False  False  False  False     False     False     False\n",
      "17   False  False  False  False     False     False     False\n",
      "18   False  False  False  False     False     False     False\n",
      "19   False  False  False  False     False     False     False\n",
      "20   False   True   True   True     False     False     False\n",
      "21   False  False  False  False     False     False     False\n",
      "22   False  False  False  False      True      True      True\n",
      "23   False  False  False  False     False     False     False\n",
      "24   False  False  False  False      True      True      True\n",
      "25   False  False  False  False     False     False     False\n",
      "26   False  False  False  False     False     False     False\n",
      "27   False  False  False  False     False     False     False\n",
      "28   False  False  False  False     False     False     False\n",
      "29   False  False  False  False      True      True      True\n",
      "30   False  False  False  False     False     False     False\n",
      "31   False  False  False  False     False     False     False\n",
      "32   False  False  False  False     False     False     False\n",
      "33   False  False  False  False      True      True      True\n",
      "34   False  False  False  False      True      True      True\n",
      "35   False  False  False  False     False     False     False\n",
      "Sample       0\n",
      "size1        1\n",
      "size2        1\n",
      "size3        1\n",
      "density1    10\n",
      "density2    10\n",
      "density3    10\n",
      "dtype: int64\n"
     ]
    }
   ],
   "source": [
    "#find missing values and count for each columns\n",
    "print(df.isna())\n",
    "print(df.isna().sum())"
   ]
  },
  {
   "cell_type": "code",
   "execution_count": 5,
   "id": "027af5a2",
   "metadata": {},
   "outputs": [
    {
     "data": {
      "text/plain": [
       "Sample       0.00\n",
       "size1        2.78\n",
       "size2        2.78\n",
       "size3        2.78\n",
       "density1    27.78\n",
       "density2    27.78\n",
       "density3    27.78\n",
       "dtype: float64"
      ]
     },
     "execution_count": 5,
     "metadata": {},
     "output_type": "execute_result"
    }
   ],
   "source": [
    "#Finding percentage of missing values in each column\n",
    "round(df.isnull().sum() * 100 / len(df),2)"
   ]
  },
  {
   "cell_type": "code",
   "execution_count": 6,
   "id": "66a39567",
   "metadata": {},
   "outputs": [
    {
     "data": {
      "text/html": [
       "<div>\n",
       "<style scoped>\n",
       "    .dataframe tbody tr th:only-of-type {\n",
       "        vertical-align: middle;\n",
       "    }\n",
       "\n",
       "    .dataframe tbody tr th {\n",
       "        vertical-align: top;\n",
       "    }\n",
       "\n",
       "    .dataframe thead th {\n",
       "        text-align: right;\n",
       "    }\n",
       "</style>\n",
       "<table border=\"1\" class=\"dataframe\">\n",
       "  <thead>\n",
       "    <tr style=\"text-align: right;\">\n",
       "      <th></th>\n",
       "      <th>Sample</th>\n",
       "      <th>size1</th>\n",
       "      <th>size2</th>\n",
       "      <th>size3</th>\n",
       "      <th>density1</th>\n",
       "      <th>density2</th>\n",
       "      <th>density3</th>\n",
       "    </tr>\n",
       "  </thead>\n",
       "  <tbody>\n",
       "    <tr>\n",
       "      <th>31</th>\n",
       "      <td>X57095</td>\n",
       "      <td>0.662</td>\n",
       "      <td>2.34</td>\n",
       "      <td>4.71</td>\n",
       "      <td>35.0</td>\n",
       "      <td>12.37</td>\n",
       "      <td>3.9</td>\n",
       "    </tr>\n",
       "    <tr>\n",
       "      <th>32</th>\n",
       "      <td>X57128</td>\n",
       "      <td>0.749</td>\n",
       "      <td>2.43</td>\n",
       "      <td>5.16</td>\n",
       "      <td>37.3</td>\n",
       "      <td>13.04</td>\n",
       "      <td>3.92</td>\n",
       "    </tr>\n",
       "    <tr>\n",
       "      <th>33</th>\n",
       "      <td>X61870</td>\n",
       "      <td>0.598</td>\n",
       "      <td>2.21</td>\n",
       "      <td>4.9</td>\n",
       "      <td>mis</td>\n",
       "      <td>mis</td>\n",
       "      <td>mis</td>\n",
       "    </tr>\n",
       "    <tr>\n",
       "      <th>34</th>\n",
       "      <td>X61888</td>\n",
       "      <td>0.619</td>\n",
       "      <td>2.59</td>\n",
       "      <td>5.81</td>\n",
       "      <td>mis</td>\n",
       "      <td>mis</td>\n",
       "      <td>mis</td>\n",
       "    </tr>\n",
       "    <tr>\n",
       "      <th>35</th>\n",
       "      <td>X72736</td>\n",
       "      <td>0.693</td>\n",
       "      <td>2.05</td>\n",
       "      <td>5.02</td>\n",
       "      <td>39.6</td>\n",
       "      <td>15.55</td>\n",
       "      <td>3.94</td>\n",
       "    </tr>\n",
       "  </tbody>\n",
       "</table>\n",
       "</div>"
      ],
      "text/plain": [
       "    Sample  size1 size2 size3 density1 density2 density3\n",
       "31  X57095  0.662  2.34  4.71     35.0    12.37      3.9\n",
       "32  X57128  0.749  2.43  5.16     37.3    13.04     3.92\n",
       "33  X61870  0.598  2.21   4.9      mis      mis      mis\n",
       "34  X61888  0.619  2.59  5.81      mis      mis      mis\n",
       "35  X72736  0.693  2.05  5.02     39.6    15.55     3.94"
      ]
     },
     "execution_count": 6,
     "metadata": {},
     "output_type": "execute_result"
    }
   ],
   "source": [
    "#filling the missing values\n",
    "data=df.fillna('mis')\n",
    "data.tail()"
   ]
  },
  {
   "cell_type": "code",
   "execution_count": 7,
   "id": "38de59f7",
   "metadata": {},
   "outputs": [
    {
     "name": "stdout",
     "output_type": "stream",
     "text": [
      "0\n"
     ]
    }
   ],
   "source": [
    "#check for duplicated values\n",
    "print(df.duplicated().sum())"
   ]
  },
  {
   "cell_type": "code",
   "execution_count": 8,
   "id": "2be7f4f0",
   "metadata": {},
   "outputs": [
    {
     "name": "stdout",
     "output_type": "stream",
     "text": [
      "None\n"
     ]
    },
    {
     "data": {
      "text/plain": [
       "0"
      ]
     },
     "execution_count": 8,
     "metadata": {},
     "output_type": "execute_result"
    }
   ],
   "source": [
    "#removing duplicated rows\n",
    "print(df.drop_duplicates(inplace=True))\n",
    "df.duplicated().sum()"
   ]
  },
  {
   "cell_type": "code",
   "execution_count": 9,
   "id": "23da8e02",
   "metadata": {},
   "outputs": [
    {
     "name": "stdout",
     "output_type": "stream",
     "text": [
      "None\n",
      "    Sample  size1  size2  size3  density1  density2  density3\n",
      "0   X12558  0.696   2.69   6.38      41.8     17.18      3.90\n",
      "1   X14728  0.636   2.30   5.14      38.1     12.73      3.89\n",
      "2   X15468  0.841   2.85   5.20      37.6     13.58      3.98\n",
      "3   X21364  0.609   2.13   4.62      34.2     11.12      4.02\n",
      "4   X23671  0.684   2.16   4.87      36.4     12.24      3.92\n",
      "5   X24055  0.762   2.81   6.36      38.1     13.28      3.89\n",
      "6   X24905  0.552   2.34   5.03      41.3     16.71      3.86\n",
      "9   X28690  0.610   2.10   4.18      35.0     12.15      3.86\n",
      "13  X33943  0.537   2.23   5.41      35.2     11.34      3.99\n",
      "14  X35035  0.702   2.05   5.10      34.2     10.54      4.02\n",
      "15  X39223  0.768   2.51   5.09      34.9     12.55      3.90\n",
      "16  X40503  0.714   2.56   6.03      35.6     12.20      4.02\n",
      "17  X41400  0.621   2.42   5.10      38.7     14.27      3.98\n",
      "18  X42988  0.726   2.11   4.69      37.1     13.14      3.98\n",
      "19  X44749  0.698   2.36   5.40      36.6     12.16      4.01\n",
      "21  X46965  0.759   2.47   4.83      38.7     14.83      3.89\n",
      "23  X50678  0.716   2.29   5.45      37.3     13.70      3.92\n",
      "25  X53925  0.598   2.12   4.69      37.9     13.45      3.78\n",
      "26  X54254  0.700   2.47   5.22      38.8     14.72      3.92\n",
      "27  X54272  0.957   2.96   7.37      36.2     13.38      4.20\n",
      "28  X54394  0.759   2.66   5.36      35.2     12.19      3.98\n",
      "30  X56952  0.646   2.38   4.51      40.1     15.68      3.86\n",
      "31  X57095  0.662   2.34   4.71      35.0     12.37      3.90\n",
      "32  X57128  0.749   2.43   5.16      37.3     13.04      3.92\n",
      "35  X72736  0.693   2.05   5.02      39.6     15.55      3.94\n"
     ]
    }
   ],
   "source": [
    "print(df.dropna(inplace=True))\n",
    "print(df)"
   ]
  },
  {
   "cell_type": "code",
   "execution_count": 10,
   "id": "08baa18a",
   "metadata": {},
   "outputs": [
    {
     "data": {
      "text/html": [
       "<div>\n",
       "<style scoped>\n",
       "    .dataframe tbody tr th:only-of-type {\n",
       "        vertical-align: middle;\n",
       "    }\n",
       "\n",
       "    .dataframe tbody tr th {\n",
       "        vertical-align: top;\n",
       "    }\n",
       "\n",
       "    .dataframe thead th {\n",
       "        text-align: right;\n",
       "    }\n",
       "</style>\n",
       "<table border=\"1\" class=\"dataframe\">\n",
       "  <thead>\n",
       "    <tr style=\"text-align: right;\">\n",
       "      <th></th>\n",
       "      <th>Sample</th>\n",
       "      <th>size1</th>\n",
       "      <th>size2</th>\n",
       "      <th>size3</th>\n",
       "      <th>density1</th>\n",
       "      <th>density2</th>\n",
       "      <th>density3</th>\n",
       "    </tr>\n",
       "  </thead>\n",
       "  <tbody>\n",
       "    <tr>\n",
       "      <th>31</th>\n",
       "      <td>X57095</td>\n",
       "      <td>0.662</td>\n",
       "      <td>2.34</td>\n",
       "      <td>4.71</td>\n",
       "      <td>35.0</td>\n",
       "      <td>12.37</td>\n",
       "      <td>3.9</td>\n",
       "    </tr>\n",
       "    <tr>\n",
       "      <th>32</th>\n",
       "      <td>X57128</td>\n",
       "      <td>0.749</td>\n",
       "      <td>2.43</td>\n",
       "      <td>5.16</td>\n",
       "      <td>37.3</td>\n",
       "      <td>13.04</td>\n",
       "      <td>3.92</td>\n",
       "    </tr>\n",
       "    <tr>\n",
       "      <th>33</th>\n",
       "      <td>X61870</td>\n",
       "      <td>0.598</td>\n",
       "      <td>2.21</td>\n",
       "      <td>4.9</td>\n",
       "      <td>mis</td>\n",
       "      <td>17</td>\n",
       "      <td>mis</td>\n",
       "    </tr>\n",
       "    <tr>\n",
       "      <th>34</th>\n",
       "      <td>X61888</td>\n",
       "      <td>0.619</td>\n",
       "      <td>2.59</td>\n",
       "      <td>5.81</td>\n",
       "      <td>mis</td>\n",
       "      <td>17</td>\n",
       "      <td>mis</td>\n",
       "    </tr>\n",
       "    <tr>\n",
       "      <th>35</th>\n",
       "      <td>X72736</td>\n",
       "      <td>0.693</td>\n",
       "      <td>2.05</td>\n",
       "      <td>5.02</td>\n",
       "      <td>39.6</td>\n",
       "      <td>15.55</td>\n",
       "      <td>3.94</td>\n",
       "    </tr>\n",
       "  </tbody>\n",
       "</table>\n",
       "</div>"
      ],
      "text/plain": [
       "    Sample  size1 size2 size3 density1 density2 density3\n",
       "31  X57095  0.662  2.34  4.71     35.0    12.37      3.9\n",
       "32  X57128  0.749  2.43  5.16     37.3    13.04     3.92\n",
       "33  X61870  0.598  2.21   4.9      mis       17      mis\n",
       "34  X61888  0.619  2.59  5.81      mis       17      mis\n",
       "35  X72736  0.693  2.05  5.02     39.6    15.55     3.94"
      ]
     },
     "execution_count": 10,
     "metadata": {},
     "output_type": "execute_result"
    }
   ],
   "source": [
    "#replacing 'mis' values into '17' in 'density2'\n",
    "for x in range(0,len(data['density2']),1):\n",
    "    if data.loc[x,'density2'] == 'mis':\n",
    "        data.loc[x,'density2'] = 17\n",
    "        \n",
    "data.tail()        "
   ]
  },
  {
   "cell_type": "code",
   "execution_count": 11,
   "id": "2d8e7c6f",
   "metadata": {},
   "outputs": [
    {
     "data": {
      "text/html": [
       "<div>\n",
       "<style scoped>\n",
       "    .dataframe tbody tr th:only-of-type {\n",
       "        vertical-align: middle;\n",
       "    }\n",
       "\n",
       "    .dataframe tbody tr th {\n",
       "        vertical-align: top;\n",
       "    }\n",
       "\n",
       "    .dataframe thead th {\n",
       "        text-align: right;\n",
       "    }\n",
       "</style>\n",
       "<table border=\"1\" class=\"dataframe\">\n",
       "  <thead>\n",
       "    <tr style=\"text-align: right;\">\n",
       "      <th></th>\n",
       "      <th>Sample</th>\n",
       "      <th>size1</th>\n",
       "      <th>size2</th>\n",
       "      <th>size3</th>\n",
       "      <th>density1</th>\n",
       "      <th>density2</th>\n",
       "      <th>density3</th>\n",
       "    </tr>\n",
       "  </thead>\n",
       "  <tbody>\n",
       "    <tr>\n",
       "      <th>28</th>\n",
       "      <td>X54394</td>\n",
       "      <td>0.759</td>\n",
       "      <td>2.66</td>\n",
       "      <td>5.36</td>\n",
       "      <td>35.2</td>\n",
       "      <td>12.19</td>\n",
       "      <td>3.98</td>\n",
       "    </tr>\n",
       "    <tr>\n",
       "      <th>30</th>\n",
       "      <td>X56952</td>\n",
       "      <td>0.646</td>\n",
       "      <td>2.38</td>\n",
       "      <td>4.51</td>\n",
       "      <td>40.1</td>\n",
       "      <td>15.68</td>\n",
       "      <td>3.86</td>\n",
       "    </tr>\n",
       "    <tr>\n",
       "      <th>31</th>\n",
       "      <td>X57095</td>\n",
       "      <td>0.662</td>\n",
       "      <td>2.34</td>\n",
       "      <td>4.71</td>\n",
       "      <td>35.0</td>\n",
       "      <td>12.37</td>\n",
       "      <td>3.9</td>\n",
       "    </tr>\n",
       "    <tr>\n",
       "      <th>32</th>\n",
       "      <td>X57128</td>\n",
       "      <td>0.749</td>\n",
       "      <td>2.43</td>\n",
       "      <td>5.16</td>\n",
       "      <td>37.3</td>\n",
       "      <td>13.04</td>\n",
       "      <td>3.92</td>\n",
       "    </tr>\n",
       "    <tr>\n",
       "      <th>35</th>\n",
       "      <td>X72736</td>\n",
       "      <td>0.693</td>\n",
       "      <td>2.05</td>\n",
       "      <td>5.02</td>\n",
       "      <td>39.6</td>\n",
       "      <td>15.55</td>\n",
       "      <td>3.94</td>\n",
       "    </tr>\n",
       "  </tbody>\n",
       "</table>\n",
       "</div>"
      ],
      "text/plain": [
       "    Sample  size1 size2 size3 density1 density2 density3\n",
       "28  X54394  0.759  2.66  5.36     35.2    12.19     3.98\n",
       "30  X56952  0.646  2.38  4.51     40.1    15.68     3.86\n",
       "31  X57095  0.662  2.34  4.71     35.0    12.37      3.9\n",
       "32  X57128  0.749  2.43  5.16     37.3    13.04     3.92\n",
       "35  X72736  0.693  2.05  5.02     39.6    15.55     3.94"
      ]
     },
     "execution_count": 11,
     "metadata": {},
     "output_type": "execute_result"
    }
   ],
   "source": [
    "#replacing 'mis' values into '17' in 'density2'\n",
    "for x in range(0,len(data['density1']),1):\n",
    "    if data.loc[x,'density1'] == 'mis':\n",
    "        data.drop(x,inplace=True)\n",
    "        \n",
    "data.tail()   "
   ]
  },
  {
   "cell_type": "code",
   "execution_count": null,
   "id": "01fabe03",
   "metadata": {},
   "outputs": [],
   "source": []
  },
  {
   "cell_type": "code",
   "execution_count": null,
   "id": "11d0e0b7",
   "metadata": {},
   "outputs": [],
   "source": []
  }
 ],
 "metadata": {
  "kernelspec": {
   "display_name": "Python 3 (ipykernel)",
   "language": "python",
   "name": "python3"
  },
  "language_info": {
   "codemirror_mode": {
    "name": "ipython",
    "version": 3
   },
   "file_extension": ".py",
   "mimetype": "text/x-python",
   "name": "python",
   "nbconvert_exporter": "python",
   "pygments_lexer": "ipython3",
   "version": "3.10.4"
  }
 },
 "nbformat": 4,
 "nbformat_minor": 5
}
